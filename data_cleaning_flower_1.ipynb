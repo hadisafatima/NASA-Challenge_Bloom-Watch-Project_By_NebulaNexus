{
 "cells": [
  {
   "cell_type": "markdown",
   "id": "7035190e",
   "metadata": {},
   "source": [
    "# Flower Bloom Dataset EDA, Cleaning, and Post-cleaning EDA\n",
    "\n",
    "**What this notebook does (step-by-step):**\n",
    "\n",
    "1. Load dataset (tries raw CSV, then cleaned CSV). \n",
    "2. Perform *EDA before cleaning* to explore issues. \n",
    "3. Apply data cleaning steps (examples shown). \n",
    "4. Perform *EDA after cleaning* and extract insights."
   ]
  },
  {
   "cell_type": "markdown",
   "id": "8487786f",
   "metadata": {},
   "source": [
    "# Import Libraries"
   ]
  },
  {
   "cell_type": "code",
   "execution_count": 20,
   "id": "0e87500b",
   "metadata": {},
   "outputs": [],
   "source": [
    "import os\n",
    "import warnings\n",
    "warnings.filterwarnings('ignore')\n",
    "\n",
    "import pandas as pd\n",
    "import numpy as np"
   ]
  },
  {
   "cell_type": "markdown",
   "id": "742197bd",
   "metadata": {},
   "source": [
    "## Load the dataset"
   ]
  },
  {
   "cell_type": "code",
   "execution_count": 3,
   "id": "519fe09b",
   "metadata": {},
   "outputs": [],
   "source": [
    "file_path = \"flower_bloom_dataset.csv\"\n",
    "df = pd.read_csv(file_path)"
   ]
  },
  {
   "cell_type": "markdown",
   "id": "2389afa0",
   "metadata": {},
   "source": [
    "# EDA (Before cleaning)"
   ]
  },
  {
   "cell_type": "code",
   "execution_count": 27,
   "id": "a74f072b",
   "metadata": {},
   "outputs": [
    {
     "data": {
      "text/html": [
       "<div>\n",
       "<style scoped>\n",
       "    .dataframe tbody tr th:only-of-type {\n",
       "        vertical-align: middle;\n",
       "    }\n",
       "\n",
       "    .dataframe tbody tr th {\n",
       "        vertical-align: top;\n",
       "    }\n",
       "\n",
       "    .dataframe thead th {\n",
       "        text-align: right;\n",
       "    }\n",
       "</style>\n",
       "<table border=\"1\" class=\"dataframe\">\n",
       "  <thead>\n",
       "    <tr style=\"text-align: right;\">\n",
       "      <th></th>\n",
       "      <th>type</th>\n",
       "      <th>properties.id</th>\n",
       "      <th>properties.Site</th>\n",
       "      <th>properties.Type</th>\n",
       "      <th>properties.Season</th>\n",
       "      <th>properties.Area</th>\n",
       "      <th>geometry.type</th>\n",
       "      <th>geometry.coordinates</th>\n",
       "    </tr>\n",
       "  </thead>\n",
       "  <tbody>\n",
       "    <tr>\n",
       "      <th>0</th>\n",
       "      <td>Feature</td>\n",
       "      <td>NaN</td>\n",
       "      <td>Chino Hills</td>\n",
       "      <td>Wild</td>\n",
       "      <td>Spring</td>\n",
       "      <td>25382.057</td>\n",
       "      <td>MultiPolygon</td>\n",
       "      <td>[[[[-117.68286416250682, 33.87223450781116], [...</td>\n",
       "    </tr>\n",
       "    <tr>\n",
       "      <th>1</th>\n",
       "      <td>Feature</td>\n",
       "      <td>NaN</td>\n",
       "      <td>Carrizo Plain National Monument</td>\n",
       "      <td>Wild</td>\n",
       "      <td>Spring</td>\n",
       "      <td>354751.514</td>\n",
       "      <td>MultiPolygon</td>\n",
       "      <td>[[[[-119.50857432459836, 34.87043932367128], [...</td>\n",
       "    </tr>\n",
       "    <tr>\n",
       "      <th>2</th>\n",
       "      <td>Feature</td>\n",
       "      <td>NaN</td>\n",
       "      <td>Antelope Valley California Poppy Reserve</td>\n",
       "      <td>Wild</td>\n",
       "      <td>Spring</td>\n",
       "      <td>25182.333</td>\n",
       "      <td>MultiPolygon</td>\n",
       "      <td>[[[[-118.50266751919736, 34.69779051559962], [...</td>\n",
       "    </tr>\n",
       "    <tr>\n",
       "      <th>3</th>\n",
       "      <td>Feature</td>\n",
       "      <td>0.0</td>\n",
       "      <td>Red Hills 0</td>\n",
       "      <td>Plantation</td>\n",
       "      <td>Summer</td>\n",
       "      <td>14874.759</td>\n",
       "      <td>MultiPolygon</td>\n",
       "      <td>[[[[-120.239271, 33.427726]]]]</td>\n",
       "    </tr>\n",
       "    <tr>\n",
       "      <th>4</th>\n",
       "      <td>Feature</td>\n",
       "      <td>1.0</td>\n",
       "      <td>Golden Valley 1</td>\n",
       "      <td>Wild</td>\n",
       "      <td>Winter</td>\n",
       "      <td>364929.893</td>\n",
       "      <td>MultiPolygon</td>\n",
       "      <td>[[[[-116.766138, 36.991884]]]]</td>\n",
       "    </tr>\n",
       "  </tbody>\n",
       "</table>\n",
       "</div>"
      ],
      "text/plain": [
       "      type  properties.id                           properties.Site  \\\n",
       "0  Feature            NaN                               Chino Hills   \n",
       "1  Feature            NaN           Carrizo Plain National Monument   \n",
       "2  Feature            NaN  Antelope Valley California Poppy Reserve   \n",
       "3  Feature            0.0                               Red Hills 0   \n",
       "4  Feature            1.0                           Golden Valley 1   \n",
       "\n",
       "  properties.Type properties.Season  properties.Area geometry.type  \\\n",
       "0            Wild            Spring        25382.057  MultiPolygon   \n",
       "1            Wild            Spring       354751.514  MultiPolygon   \n",
       "2            Wild            Spring        25182.333  MultiPolygon   \n",
       "3      Plantation            Summer        14874.759  MultiPolygon   \n",
       "4            Wild            Winter       364929.893  MultiPolygon   \n",
       "\n",
       "                                geometry.coordinates  \n",
       "0  [[[[-117.68286416250682, 33.87223450781116], [...  \n",
       "1  [[[[-119.50857432459836, 34.87043932367128], [...  \n",
       "2  [[[[-118.50266751919736, 34.69779051559962], [...  \n",
       "3                     [[[[-120.239271, 33.427726]]]]  \n",
       "4                     [[[[-116.766138, 36.991884]]]]  "
      ]
     },
     "execution_count": 27,
     "metadata": {},
     "output_type": "execute_result"
    }
   ],
   "source": [
    "df.head()"
   ]
  },
  {
   "cell_type": "code",
   "execution_count": 23,
   "id": "f5da19b3",
   "metadata": {},
   "outputs": [
    {
     "name": "stdout",
     "output_type": "stream",
     "text": [
      "Shape: (150, 8)\n",
      "\n",
      "Data types:\n"
     ]
    },
    {
     "data": {
      "text/plain": [
       "type                     object\n",
       "properties.id           float64\n",
       "properties.Site          object\n",
       "properties.Type          object\n",
       "properties.Season        object\n",
       "properties.Area         float64\n",
       "geometry.type            object\n",
       "geometry.coordinates     object\n",
       "dtype: object"
      ]
     },
     "metadata": {},
     "output_type": "display_data"
    }
   ],
   "source": [
    "print(\"Shape:\", df.shape)\n",
    "print(\"\\nData types:\")\n",
    "display(df.dtypes)"
   ]
  },
  {
   "cell_type": "code",
   "execution_count": 24,
   "id": "ad7329fb",
   "metadata": {},
   "outputs": [
    {
     "name": "stdout",
     "output_type": "stream",
     "text": [
      "\n",
      "Basic stats for numeric columns:\n"
     ]
    },
    {
     "data": {
      "text/html": [
       "<div>\n",
       "<style scoped>\n",
       "    .dataframe tbody tr th:only-of-type {\n",
       "        vertical-align: middle;\n",
       "    }\n",
       "\n",
       "    .dataframe tbody tr th {\n",
       "        vertical-align: top;\n",
       "    }\n",
       "\n",
       "    .dataframe thead th {\n",
       "        text-align: right;\n",
       "    }\n",
       "</style>\n",
       "<table border=\"1\" class=\"dataframe\">\n",
       "  <thead>\n",
       "    <tr style=\"text-align: right;\">\n",
       "      <th></th>\n",
       "      <th>properties.id</th>\n",
       "      <th>properties.Area</th>\n",
       "    </tr>\n",
       "  </thead>\n",
       "  <tbody>\n",
       "    <tr>\n",
       "      <th>count</th>\n",
       "      <td>147.000000</td>\n",
       "      <td>150.000000</td>\n",
       "    </tr>\n",
       "    <tr>\n",
       "      <th>mean</th>\n",
       "      <td>73.000000</td>\n",
       "      <td>196263.850600</td>\n",
       "    </tr>\n",
       "    <tr>\n",
       "      <th>std</th>\n",
       "      <td>42.579338</td>\n",
       "      <td>121273.033454</td>\n",
       "    </tr>\n",
       "    <tr>\n",
       "      <th>min</th>\n",
       "      <td>0.000000</td>\n",
       "      <td>6036.018000</td>\n",
       "    </tr>\n",
       "    <tr>\n",
       "      <th>25%</th>\n",
       "      <td>36.500000</td>\n",
       "      <td>95507.154500</td>\n",
       "    </tr>\n",
       "    <tr>\n",
       "      <th>50%</th>\n",
       "      <td>73.000000</td>\n",
       "      <td>185780.354500</td>\n",
       "    </tr>\n",
       "    <tr>\n",
       "      <th>75%</th>\n",
       "      <td>109.500000</td>\n",
       "      <td>308019.167000</td>\n",
       "    </tr>\n",
       "    <tr>\n",
       "      <th>max</th>\n",
       "      <td>146.000000</td>\n",
       "      <td>397053.019000</td>\n",
       "    </tr>\n",
       "  </tbody>\n",
       "</table>\n",
       "</div>"
      ],
      "text/plain": [
       "       properties.id  properties.Area\n",
       "count     147.000000       150.000000\n",
       "mean       73.000000    196263.850600\n",
       "std        42.579338    121273.033454\n",
       "min         0.000000      6036.018000\n",
       "25%        36.500000     95507.154500\n",
       "50%        73.000000    185780.354500\n",
       "75%       109.500000    308019.167000\n",
       "max       146.000000    397053.019000"
      ]
     },
     "metadata": {},
     "output_type": "display_data"
    }
   ],
   "source": [
    "print(\"\\nBasic stats for numeric columns:\")\n",
    "display(df.describe(include=[np.number]))"
   ]
  },
  {
   "cell_type": "code",
   "execution_count": 25,
   "id": "30949f1e",
   "metadata": {},
   "outputs": [
    {
     "name": "stdout",
     "output_type": "stream",
     "text": [
      "\n",
      "Missing values per column:\n"
     ]
    },
    {
     "data": {
      "text/plain": [
       "type                    0\n",
       "properties.id           3\n",
       "properties.Site         0\n",
       "properties.Type         0\n",
       "properties.Season       0\n",
       "properties.Area         0\n",
       "geometry.type           0\n",
       "geometry.coordinates    0\n",
       "dtype: int64"
      ]
     },
     "metadata": {},
     "output_type": "display_data"
    }
   ],
   "source": [
    "print(\"\\nMissing values per column:\")\n",
    "display(df.isna().sum())"
   ]
  },
  {
   "cell_type": "code",
   "execution_count": 26,
   "id": "5a6b0983",
   "metadata": {},
   "outputs": [
    {
     "name": "stdout",
     "output_type": "stream",
     "text": [
      "\n",
      "Duplicate rows: 0\n"
     ]
    }
   ],
   "source": [
    "# Duplicates\n",
    "print(\"\\nDuplicate rows:\", df.duplicated().sum())"
   ]
  },
  {
   "cell_type": "markdown",
   "id": "ec84169a",
   "metadata": {},
   "source": [
    "### 🧩 Findings Before Cleaning\n",
    "\n",
    "After checking the data, I noticed that some columns are not really useful for my analysis.  \n",
    "The **`properties.id`** column is just an ID number for each row, so it doesn’t help me find any insights.  \n",
    "The **`type`** column also doesn’t give any helpful information, so I’ll remove both of them to keep my dataset clean and focused.  \n",
    "\n",
    "I also saw that some column names are long and include prefixes like `properties.` and `geometry.`  which makes them a bit hard to read.  \n",
    "So, I’ll rename them to shorter and clearer names. For example:  \n",
    "- `properties.Site` → `Site`  \n",
    "- `properties.Type` → `Type`  \n",
    "- `properties.Season` → `Season`  \n",
    "- `geometry.type` → `GeometryType`  \n",
    "- `geometry.coordinates` → `Coordinates`  "
   ]
  },
  {
   "cell_type": "markdown",
   "id": "ff2cbbd9",
   "metadata": {},
   "source": [
    "# Data Cleaning"
   ]
  },
  {
   "cell_type": "code",
   "execution_count": 28,
   "id": "1a5f7f40",
   "metadata": {},
   "outputs": [],
   "source": [
    "# Remove irrelevant columns\n",
    "df = df.drop(columns=['properties.id', 'type'], errors='ignore')"
   ]
  },
  {
   "cell_type": "code",
   "execution_count": 29,
   "id": "fb18c074",
   "metadata": {},
   "outputs": [],
   "source": [
    "# Rename columns to simpler names\n",
    "df = df.rename(columns={\n",
    "    'properties.Site': 'Site',\n",
    "    'properties.Type': 'Type',\n",
    "    'properties.Season': 'Season',\n",
    "    'properties.Area': 'Area',\n",
    "    'geometry.type': 'GeometryType',\n",
    "    'geometry.coordinates': 'Coordinates'\n",
    "})"
   ]
  },
  {
   "cell_type": "code",
   "execution_count": 30,
   "id": "de36da11",
   "metadata": {},
   "outputs": [],
   "source": [
    "# Remove any numbers at the end of the 'Site' names (for example: \"Garden 2\" → \"Garden\")\n",
    "df['Site'] = df['Site'].str.replace(r'\\s*\\d+$', '', regex=True)"
   ]
  },
  {
   "cell_type": "markdown",
   "id": "8e6707c9",
   "metadata": {},
   "source": [
    "### ✅ Data Cleaning Summary\n",
    "\n",
    "In this step, I cleaned the dataset by removing unnecessary columns, renaming long column names,  \n",
    "and fixing small formatting issues in the data.  \n",
    "\n",
    "- Removed **`properties.id`** and **`type`** because they didn’t add any useful information.  \n",
    "- Renamed columns like **`properties.Site`**, **`geometry.type`**, and others to shorter, clearer names.  \n",
    "- Cleaned up the **`Site`** column by removing numbers at the end of site names (for example: “Garden 2” → “Garden”).  "
   ]
  }
 ],
 "metadata": {
  "kernelspec": {
   "display_name": "python_ML",
   "language": "python",
   "name": "python3"
  },
  "language_info": {
   "codemirror_mode": {
    "name": "ipython",
    "version": 3
   },
   "file_extension": ".py",
   "mimetype": "text/x-python",
   "name": "python",
   "nbconvert_exporter": "python",
   "pygments_lexer": "ipython3",
   "version": "3.10.18"
  }
 },
 "nbformat": 4,
 "nbformat_minor": 5
}
