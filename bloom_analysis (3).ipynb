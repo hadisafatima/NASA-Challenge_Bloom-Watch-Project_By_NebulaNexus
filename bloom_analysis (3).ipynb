{
 "cells": [
  {
   "cell_type": "markdown",
   "id": "d2f18d73-c4ee-4af3-b65b-7d5e147ee877",
   "metadata": {},
   "source": [
    "### Importing Libraries"
   ]
  },
  {
   "cell_type": "code",
   "execution_count": 13,
   "id": "6dd05fd4-14f0-4b21-9ce9-bf123603d9fb",
   "metadata": {},
   "outputs": [
    {
     "data": {
      "text/html": [
       "<div>\n",
       "<style scoped>\n",
       "    .dataframe tbody tr th:only-of-type {\n",
       "        vertical-align: middle;\n",
       "    }\n",
       "\n",
       "    .dataframe tbody tr th {\n",
       "        vertical-align: top;\n",
       "    }\n",
       "\n",
       "    .dataframe thead th {\n",
       "        text-align: right;\n",
       "    }\n",
       "</style>\n",
       "<table border=\"1\" class=\"dataframe\">\n",
       "  <thead>\n",
       "    <tr style=\"text-align: right;\">\n",
       "      <th></th>\n",
       "      <th>Site</th>\n",
       "      <th>Type</th>\n",
       "      <th>Season</th>\n",
       "      <th>Area</th>\n",
       "      <th>GeometryType</th>\n",
       "      <th>Coordinates</th>\n",
       "    </tr>\n",
       "  </thead>\n",
       "  <tbody>\n",
       "    <tr>\n",
       "      <th>0</th>\n",
       "      <td>Chino Hills</td>\n",
       "      <td>Wild</td>\n",
       "      <td>Spring</td>\n",
       "      <td>25382.057</td>\n",
       "      <td>MultiPolygon</td>\n",
       "      <td>[[[[-117.68286416250682, 33.87223450781116], [...</td>\n",
       "    </tr>\n",
       "    <tr>\n",
       "      <th>1</th>\n",
       "      <td>Carrizo Plain National Monument</td>\n",
       "      <td>Wild</td>\n",
       "      <td>Spring</td>\n",
       "      <td>354751.514</td>\n",
       "      <td>MultiPolygon</td>\n",
       "      <td>[[[[-119.50857432459836, 34.87043932367128], [...</td>\n",
       "    </tr>\n",
       "    <tr>\n",
       "      <th>2</th>\n",
       "      <td>Antelope Valley California Poppy Reserve</td>\n",
       "      <td>Wild</td>\n",
       "      <td>Spring</td>\n",
       "      <td>25182.333</td>\n",
       "      <td>MultiPolygon</td>\n",
       "      <td>[[[[-118.50266751919736, 34.69779051559962], [...</td>\n",
       "    </tr>\n",
       "    <tr>\n",
       "      <th>3</th>\n",
       "      <td>Red Hills</td>\n",
       "      <td>Plantation</td>\n",
       "      <td>Summer</td>\n",
       "      <td>14874.759</td>\n",
       "      <td>MultiPolygon</td>\n",
       "      <td>[[[[-120.239271, 33.427726]]]]</td>\n",
       "    </tr>\n",
       "    <tr>\n",
       "      <th>4</th>\n",
       "      <td>Golden Valley</td>\n",
       "      <td>Wild</td>\n",
       "      <td>Winter</td>\n",
       "      <td>364929.893</td>\n",
       "      <td>MultiPolygon</td>\n",
       "      <td>[[[[-116.766138, 36.991884]]]]</td>\n",
       "    </tr>\n",
       "  </tbody>\n",
       "</table>\n",
       "</div>"
      ],
      "text/plain": [
       "                                       Site        Type  Season        Area  \\\n",
       "0                               Chino Hills        Wild  Spring   25382.057   \n",
       "1           Carrizo Plain National Monument        Wild  Spring  354751.514   \n",
       "2  Antelope Valley California Poppy Reserve        Wild  Spring   25182.333   \n",
       "3                                 Red Hills  Plantation  Summer   14874.759   \n",
       "4                             Golden Valley        Wild  Winter  364929.893   \n",
       "\n",
       "   GeometryType                                        Coordinates  \n",
       "0  MultiPolygon  [[[[-117.68286416250682, 33.87223450781116], [...  \n",
       "1  MultiPolygon  [[[[-119.50857432459836, 34.87043932367128], [...  \n",
       "2  MultiPolygon  [[[[-118.50266751919736, 34.69779051559962], [...  \n",
       "3  MultiPolygon                     [[[[-120.239271, 33.427726]]]]  \n",
       "4  MultiPolygon                     [[[[-116.766138, 36.991884]]]]  "
      ]
     },
     "execution_count": 13,
     "metadata": {},
     "output_type": "execute_result"
    }
   ],
   "source": [
    "import pandas as pd\n",
    "import numpy as np\n",
    "import matplotlib.pyplot as plt\n",
    "import seaborn as sns\n",
    "import streamlit as st\n",
    "\n",
    "\n",
    "from sklearn.model_selection import train_test_split\n",
    "from sklearn.preprocessing import LabelEncoder\n",
    "from sklearn.linear_model import LinearRegression\n",
    "from sklearn.ensemble import RandomForestRegressor\n",
    "from xgboost import XGBRegressor\n",
    "from sklearn.metrics import mean_squared_error, r2_score\n",
    "\n",
    "df = pd.read_csv(\"flowerBlooms_Clean.csv\")\n",
    "df.head()\n"
   ]
  },
  {
   "cell_type": "markdown",
   "id": "08431db1-0f0c-4319-9cce-38df17598ade",
   "metadata": {},
   "source": [
    "### Load Dataset & Encoding"
   ]
  },
  {
   "cell_type": "code",
   "execution_count": 10,
   "id": "8daa02bb-185e-40fd-a8ef-16e8d4dbdbf5",
   "metadata": {},
   "outputs": [
    {
     "name": "stdout",
     "output_type": "stream",
     "text": [
      "Dataset Info:\n",
      "<class 'pandas.core.frame.DataFrame'>\n",
      "RangeIndex: 150 entries, 0 to 149\n",
      "Data columns (total 6 columns):\n",
      " #   Column        Non-Null Count  Dtype  \n",
      "---  ------        --------------  -----  \n",
      " 0   Site          150 non-null    object \n",
      " 1   Type          150 non-null    object \n",
      " 2   Season        150 non-null    object \n",
      " 3   Area          150 non-null    float64\n",
      " 4   GeometryType  150 non-null    object \n",
      " 5   Coordinates   150 non-null    object \n",
      "dtypes: float64(1), object(5)\n",
      "memory usage: 7.2+ KB\n",
      "None\n"
     ]
    }
   ],
   "source": [
    "print(\"Dataset Info:\")\n",
    "print(df.info())\n",
    "\n",
    "season_map = {'Spring': 1, 'Summer': 2, 'Fall': 3, 'Winter': 4}\n",
    "df['Season_num'] = df['Season'].map(season_map)\n",
    "df['Site_num'] = df['Site'].astype('category').cat.codes\n",
    "df['Type_num'] = df['Type'].astype('category').cat.codes\n",
    "df['GeometryType_num'] = df['GeometryType'].astype('category').cat.codes\n",
    "\n",
    "X = df[['Season_num', 'Site_num', 'Type_num', 'GeometryType_num']]\n",
    "y = df['Area']\n"
   ]
  },
  {
   "cell_type": "markdown",
   "id": "32713e69-d503-4ed8-9c02-7ecbcece6952",
   "metadata": {},
   "source": [
    "### Model Training Prediction & Evaluation"
   ]
  },
  {
   "cell_type": "code",
   "execution_count": 3,
   "id": "25a058a3-f203-429a-b277-0b44607d77cb",
   "metadata": {},
   "outputs": [
    {
     "data": {
      "text/html": [
       "<div>\n",
       "<style scoped>\n",
       "    .dataframe tbody tr th:only-of-type {\n",
       "        vertical-align: middle;\n",
       "    }\n",
       "\n",
       "    .dataframe tbody tr th {\n",
       "        vertical-align: top;\n",
       "    }\n",
       "\n",
       "    .dataframe thead th {\n",
       "        text-align: right;\n",
       "    }\n",
       "</style>\n",
       "<table border=\"1\" class=\"dataframe\">\n",
       "  <thead>\n",
       "    <tr style=\"text-align: right;\">\n",
       "      <th></th>\n",
       "      <th>Model</th>\n",
       "      <th>MSE</th>\n",
       "      <th>R²</th>\n",
       "    </tr>\n",
       "  </thead>\n",
       "  <tbody>\n",
       "    <tr>\n",
       "      <th>0</th>\n",
       "      <td>Linear Regression</td>\n",
       "      <td>1.658529e+10</td>\n",
       "      <td>-0.030954</td>\n",
       "    </tr>\n",
       "    <tr>\n",
       "      <th>1</th>\n",
       "      <td>Random Forest</td>\n",
       "      <td>1.660750e+10</td>\n",
       "      <td>-0.032335</td>\n",
       "    </tr>\n",
       "    <tr>\n",
       "      <th>2</th>\n",
       "      <td>XGBoost</td>\n",
       "      <td>1.961203e+10</td>\n",
       "      <td>-0.219099</td>\n",
       "    </tr>\n",
       "  </tbody>\n",
       "</table>\n",
       "</div>"
      ],
      "text/plain": [
       "               Model           MSE        R²\n",
       "0  Linear Regression  1.658529e+10 -0.030954\n",
       "1      Random Forest  1.660750e+10 -0.032335\n",
       "2            XGBoost  1.961203e+10 -0.219099"
      ]
     },
     "execution_count": 3,
     "metadata": {},
     "output_type": "execute_result"
    }
   ],
   "source": [
    "#train test_aplit\n",
    "X_train, X_test, y_train, y_test = train_test_split(X, y, test_size=0.2, random_state=42)\n",
    "\n",
    "models = {\n",
    "    \"Linear Regression\": LinearRegression(),\n",
    "    \"Random Forest\": RandomForestRegressor(n_estimators=100, random_state=42),\n",
    "    \"XGBoost\": XGBRegressor(n_estimators=100, learning_rate=0.1, random_state=42)\n",
    "}\n",
    "\n",
    "results = []\n",
    "\n",
    "for name, model in models.items():\n",
    "    model.fit(X_train, y_train)\n",
    "    y_pred = model.predict(X_test)\n",
    "    \n",
    "    mse = mean_squared_error(y_test, y_pred)\n",
    "    r2 = r2_score(y_test, y_pred)\n",
    "    \n",
    "    results.append({\"Model\": name, \"MSE\": mse, \"R²\": r2})\n",
    "\n",
    "results_df = pd.DataFrame(results)\n",
    "results_df.sort_values(by=\"R²\", ascending=False)\n"
   ]
  }
 ],
 "metadata": {
  "kernelspec": {
   "display_name": "Python 3 (ipykernel)",
   "language": "python",
   "name": "python3"
  },
  "language_info": {
   "codemirror_mode": {
    "name": "ipython",
    "version": 3
   },
   "file_extension": ".py",
   "mimetype": "text/x-python",
   "name": "python",
   "nbconvert_exporter": "python",
   "pygments_lexer": "ipython3",
   "version": "3.12.7"
  }
 },
 "nbformat": 4,
 "nbformat_minor": 5
}
